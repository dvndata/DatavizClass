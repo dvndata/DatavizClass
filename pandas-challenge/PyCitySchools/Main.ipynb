{
 "cells": [
  {
   "cell_type": "markdown",
   "metadata": {},
   "source": [
    "Observations:\n",
    "1. Smaller schools (student size less than 2,000) seem to perform better. Overall passing rate is in 90%'s whereas schools with more than 3,000 have performed in 70%'s. \n",
    "2. Charter schools have performed better than District schools. Size may be a factor here.\n",
    "3. Per student budget didn't seem to have any bearing on how schools performed overall. "
   ]
  },
  {
   "cell_type": "code",
   "execution_count": 1,
   "metadata": {},
   "outputs": [],
   "source": [
    "# Dependencies and Setup\n",
    "import pandas as pd\n",
    "\n",
    "# File to Load (Remember to Change These)\n",
    "school_data_to_load = \"Resources/schools_complete.csv\"\n",
    "student_data_to_load = \"Resources/students_complete.csv\"\n",
    "\n",
    "# Read School and Student Data File and store into Pandas Data Frames\n",
    "school_data = pd.read_csv(school_data_to_load)\n",
    "student_data = pd.read_csv(student_data_to_load)\n",
    "\n",
    "# Combine the data into a single dataset\n",
    "school_data_complete = pd.merge(student_data, school_data, how=\"left\", on=[\"school_name\", \"school_name\"])\n"
   ]
  },
  {
   "cell_type": "code",
   "execution_count": 2,
   "metadata": {},
   "outputs": [],
   "source": [
    "# District Summary\n",
    "#  * Total Schools\n",
    "#  * Total Students\n",
    "#  * Total Budget\n",
    "#  * Average Math Score\n",
    "#  * Average Reading Score\n",
    "#  * % Passing Math\n",
    "#  * % Passing Reading\n",
    "#  * Overall Passing Rate (Average of the above two)\n",
    "\n",
    "total_schools = len(school_data[\"School ID\"])\n",
    "total_students = len(student_data[\"Student ID\"])\n",
    " \n",
    "total_budget = school_data[\"budget\"].sum()\n",
    "\n",
    "average_math_score = student_data[\"math_score\"].mean()\n",
    "average_reading_score = student_data[\"reading_score\"].mean()\n",
    "\n",
    "count_passing_math = len(student_data[student_data[\"math_score\"] >= 70])\n",
    "percent_passing_math = (count_passing_math / total_students) * 100\n",
    "\n",
    "count_passing_reading = len(student_data[student_data[\"reading_score\"] >= 70])\n",
    "percent_passing_reading = (count_passing_reading / total_students) * 100\n",
    "\n",
    "overall_passing_rate = (percent_passing_math + percent_passing_reading) / 2\n"
   ]
  },
  {
   "cell_type": "code",
   "execution_count": 3,
   "metadata": {},
   "outputs": [
    {
     "data": {
      "text/html": [
       "<div>\n",
       "<style scoped>\n",
       "    .dataframe tbody tr th:only-of-type {\n",
       "        vertical-align: middle;\n",
       "    }\n",
       "\n",
       "    .dataframe tbody tr th {\n",
       "        vertical-align: top;\n",
       "    }\n",
       "\n",
       "    .dataframe thead th {\n",
       "        text-align: right;\n",
       "    }\n",
       "</style>\n",
       "<table border=\"1\" class=\"dataframe\">\n",
       "  <thead>\n",
       "    <tr style=\"text-align: right;\">\n",
       "      <th></th>\n",
       "      <th>Total Schools</th>\n",
       "      <th>Total Students</th>\n",
       "      <th>Total Budget</th>\n",
       "      <th>Average Math Score</th>\n",
       "      <th>Average Reading Score</th>\n",
       "      <th>% Passing Math</th>\n",
       "      <th>% Passing Reading</th>\n",
       "      <th>Overall Passing Rate</th>\n",
       "    </tr>\n",
       "  </thead>\n",
       "  <tbody>\n",
       "    <tr>\n",
       "      <td>0</td>\n",
       "      <td>15</td>\n",
       "      <td>39,170</td>\n",
       "      <td>$24,649,428.00</td>\n",
       "      <td>78.985371</td>\n",
       "      <td>81.87784</td>\n",
       "      <td>74.980853</td>\n",
       "      <td>85.805463</td>\n",
       "      <td>80.393158</td>\n",
       "    </tr>\n",
       "  </tbody>\n",
       "</table>\n",
       "</div>"
      ],
      "text/plain": [
       "   Total Schools Total Students    Total Budget  Average Math Score  \\\n",
       "0             15         39,170  $24,649,428.00           78.985371   \n",
       "\n",
       "   Average Reading Score  % Passing Math  % Passing Reading  \\\n",
       "0               81.87784       74.980853          85.805463   \n",
       "\n",
       "   Overall Passing Rate  \n",
       "0             80.393158  "
      ]
     },
     "execution_count": 3,
     "metadata": {},
     "output_type": "execute_result"
    }
   ],
   "source": [
    "# Place the summary data into a summary DataFrame\n",
    "district_summary = pd.DataFrame({\n",
    "  \"Total Schools\":           [total_schools],\n",
    "  \"Total Students\":          [total_students],\n",
    "  \"Total Budget\":            [total_budget],\n",
    "  \"Average Math Score\":      [average_math_score],\n",
    "  \"Average Reading Score\":   [average_reading_score],\n",
    "  \"% Passing Math\":          [percent_passing_math],\n",
    "  \"% Passing Reading\":       [percent_passing_reading],\n",
    "  \"Overall Passing Rate\":    [overall_passing_rate]})\n",
    "\n",
    "district_summary[\"Total Students\"] =        district_summary[\"Total Students\"].map(\"{:,.0f}\".format)\n",
    "district_summary[\"Total Budget\"] =          district_summary[\"Total Budget\"].map(\"${:,.2f}\".format)\n",
    "\n",
    "district_summary"
   ]
  },
  {
   "cell_type": "code",
   "execution_count": 4,
   "metadata": {},
   "outputs": [
    {
     "ename": "NameError",
     "evalue": "name 'students_df' is not defined",
     "output_type": "error",
     "traceback": [
      "\u001b[1;31m---------------------------------------------------------------------------\u001b[0m",
      "\u001b[1;31mNameError\u001b[0m                                 Traceback (most recent call last)",
      "\u001b[1;32m<ipython-input-4-ef5641b73c27>\u001b[0m in \u001b[0;36m<module>\u001b[1;34m\u001b[0m\n\u001b[0;32m     11\u001b[0m \u001b[1;31m#  * Overall Passing Rate (Average of the above two)\u001b[0m\u001b[1;33m\u001b[0m\u001b[1;33m\u001b[0m\u001b[1;33m\u001b[0m\u001b[0m\n\u001b[0;32m     12\u001b[0m \u001b[1;33m\u001b[0m\u001b[0m\n\u001b[1;32m---> 13\u001b[1;33m \u001b[0mschool_data_complete\u001b[0m \u001b[1;33m=\u001b[0m \u001b[0mpd\u001b[0m\u001b[1;33m.\u001b[0m\u001b[0mmerge\u001b[0m\u001b[1;33m(\u001b[0m\u001b[0mstudents_df\u001b[0m\u001b[1;33m,\u001b[0m \u001b[0mschools_df\u001b[0m\u001b[1;33m,\u001b[0m \u001b[0mhow\u001b[0m\u001b[1;33m=\u001b[0m\u001b[1;34m\"left\"\u001b[0m\u001b[1;33m,\u001b[0m \u001b[0mon\u001b[0m\u001b[1;33m=\u001b[0m\u001b[1;33m[\u001b[0m\u001b[1;34m\"school_name\"\u001b[0m\u001b[1;33m]\u001b[0m\u001b[1;33m)\u001b[0m\u001b[1;33m\u001b[0m\u001b[1;33m\u001b[0m\u001b[0m\n\u001b[0m\u001b[0;32m     14\u001b[0m \u001b[0mgroup_by_school\u001b[0m \u001b[1;33m=\u001b[0m \u001b[0mschool_data_complete\u001b[0m\u001b[1;33m.\u001b[0m\u001b[0mgroupby\u001b[0m\u001b[1;33m(\u001b[0m\u001b[1;33m[\u001b[0m\u001b[1;34m'school_name'\u001b[0m\u001b[1;33m]\u001b[0m\u001b[1;33m)\u001b[0m\u001b[1;33m\u001b[0m\u001b[1;33m\u001b[0m\u001b[0m\n",
      "\u001b[1;31mNameError\u001b[0m: name 'students_df' is not defined"
     ]
    }
   ],
   "source": [
    "# School Summary\n",
    "#  * School Name\n",
    "#  * School Type\n",
    "#  * Total Students\n",
    "#  * Total School Budget\n",
    "#  * Per Student Budget\n",
    "#  * Average Math Score\n",
    "#  * Average Reading Score\n",
    "#  * % Passing Math\n",
    "#  * % Passing Reading\n",
    "#  * Overall Passing Rate (Average of the above two)\n",
    "\n",
    "school_data_complete = pd.merge(students_df, schools_df, how=\"left\", on=[\"school_name\"])\n",
    "group_by_school = school_data_complete.groupby(['school_name'])\n"
   ]
  },
  {
   "cell_type": "code",
   "execution_count": null,
   "metadata": {},
   "outputs": [],
   "source": [
    "school_type = schools_df.set_index([\"school_name\"])[\"type\"]\n",
    "\n",
    "school_students = group_by_school[\"Student ID\"].count()\n",
    "school_budget = group_by_school[\"budget\"].mean()\n",
    "per_student_budget = school_budget / school_students\n",
    "\n",
    "per_student_math_score = group_by_school[\"math_score\"].mean()\n",
    "per_student_reading_score = group_by_school[\"reading_score\"].mean()\n",
    "\n",
    "filter_passing_math = merge_data[merge_data[\"math_score\"] >= 70]\n",
    "count_passing_math = filter_passing_math.groupby([\"school_name\"]).count()[\"student_name\"]\n",
    "\n",
    "filter_passing_reading = merge_data[merge_data[\"reading_score\"] >= 70]\n",
    "count_passing_reading = filter_passing_reading.groupby([\"school_name\"]).count()[\"student_name\"]\n",
    "\n",
    "percent_passing_math = (count_passing_math / school_students) * 100\n",
    "percent_passing_reading = (count_passing_reading / school_students) * 100\n",
    "\n",
    "overall_passing_rate = (percent_passing_math + percent_passing_reading) /2\n"
   ]
  },
  {
   "cell_type": "code",
   "execution_count": null,
   "metadata": {},
   "outputs": [],
   "source": [
    "school_summary = pd.DataFrame({ \"School Type\": school_type,\n",
    "                                \"Total Students\": school_students,\n",
    "                                \"Total School Budget\": school_budget,\n",
    "                                \"Per Student Budget\": per_student_budget,\n",
    "                                \"Average Math Score\": per_student_math_score,\n",
    "                                \"Average Reading Score\": per_student_reading_score, \n",
    "                                \"% Passing Math\": percent_passing_math,\n",
    "                                \"% Passing Reading\": percent_passing_reading,\n",
    "                                \"Overall Passing Rate\": overall_passing_rate                      \n",
    "                               })\n",
    "\n",
    "# Formating the numbers to print\n",
    "school_summary1 = pd.DataFrame(school_summary)\n",
    "#school_summary1[\"Total Students\"] =         school_summary1[\"Total Students\"].map(\"{:,.0f}\".format)\n",
    "school_summary1[\"Total School Budget\"] =    school_summary1[\"Total School Budget\"].map(\"${:,.2f}\".format)\n",
    "#school_summary1[\"Per Student Budget\"] =     school_summary1[\"Per Student Budget\"].map(\"{:.2f}\".format)\n",
    "#school_summary1[\"Average Math Score\"] =     school_summary1[\"Average Math Score\"].map(\"{:,.3f}\".format)\n",
    "#school_summary1[\"Average Reading Score\"] =  school_summary1[\"Average Reading Score\"].map(\"{:,.3f}\".format)\n",
    "#school_summary1[\"% Passing Math\"] =         school_summary1[\"% Passing Math\"].map(\"{:,.2f}\".format)\n",
    "#school_summary1[\"% Passing Reading\"] =      school_summary1[\"% Passing Reading\"].map(\"{:,.2f}\".format)\n",
    "#school_summary1[\"Overall Passing Rate\"] =   school_summary1[\"Overall Passing Rate\"].map(\"{:,.3f}\".format)\n",
    "\n",
    "school_summary"
   ]
  },
  {
   "cell_type": "code",
   "execution_count": null,
   "metadata": {},
   "outputs": [],
   "source": [
    "# Top Performing Schools (By Passing Rate)\n",
    "\n",
    "# Create a table that highlights the top 5 performing schools based on Overall Passing Rate. Include:\n",
    "# School Name\n",
    "# School Type\n",
    "# Total Students\n",
    "# Total School Budget\n",
    "# Per Student Budget\n",
    "# Average Math Score\n",
    "# Average Reading Score\n",
    "# % Passing Math\n",
    "# % Passing Reading\n",
    "# Overall Passing Rate (Average of the above two)\n",
    "\n",
    "school_summary_top = school_summary.sort_values(\"Overall Passing Rate\", ascending=False)\n",
    "school_summary_top.head(5)"
   ]
  },
  {
   "cell_type": "code",
   "execution_count": null,
   "metadata": {},
   "outputs": [],
   "source": [
    "# Top Performing Schools (By Passing Rate)\n",
    "\n",
    "# Create a table that highlights the top 5 performing schools based on Overall Passing Rate. Include:\n",
    "# School Name\n",
    "# School Type\n",
    "# Total Students\n",
    "# Total School Budget\n",
    "# Per Student Budget\n",
    "# Average Math Score\n",
    "# Average Reading Score\n",
    "# % Passing Math\n",
    "# % Passing Reading\n",
    "# Overall Passing Rate (Average of the above two)\n",
    "\n",
    "school_summary_bottom = school_summary.sort_values(\"Overall Passing Rate\", ascending=True)\n",
    "school_summary_bottom.head(5)"
   ]
  },
  {
   "cell_type": "code",
   "execution_count": null,
   "metadata": {},
   "outputs": [],
   "source": [
    "# Math Scores by Grade\\*\\*\n",
    "# Create a table that lists the average Math Score for students of each grade level (9th, 10th, 11th, 12th) at each school.\n",
    "\n",
    "group_by_school_grade = merge_data.groupby(['school_name','grade'])                              "
   ]
  },
  {
   "cell_type": "code",
   "execution_count": null,
   "metadata": {},
   "outputs": [],
   "source": [
    "average_math_score = group_by_school_grade[\"math_score\"].mean()\n",
    "grade_math_summary = pd.DataFrame({ \"Average Math Score\": average_math_score })\n",
    "\n",
    "grade_math_summary[\"Average Math Score\"] =  grade_math_summary[\"Average Math Score\"].map(\"{:,.3f}\".format)\n",
    "grade_math_summary"
   ]
  },
  {
   "cell_type": "code",
   "execution_count": null,
   "metadata": {},
   "outputs": [],
   "source": [
    "# Reading Scores by Grade\\*\\*\n",
    "# Create a table that lists the average Reading Score for students of each grade level (9th, 10th, 11th, 12th) at each school.\n",
    "\n",
    "average_reading_score = group_by_school_grade[\"reading_score\"].mean()\n",
    "grade_reading_summary = pd.DataFrame({ \"Average Reading Score\": average_reading_score })\n",
    "\n",
    "grade_reading_summary[\"Average Reading Score\"] =  grade_reading_summary[\"Average Reading Score\"].map(\"{:,.3f}\".format)\n",
    "grade_reading_summary"
   ]
  },
  {
   "cell_type": "code",
   "execution_count": null,
   "metadata": {},
   "outputs": [],
   "source": [
    "# Scores by School Spending \n",
    "\n",
    "#  * Create a table that breaks down school performances based on average Spending Ranges (Per Student). \n",
    "#    Use 4 reasonable bins to group school spending. Include in the table each of the following:\n",
    "#  * Average Math Score\n",
    "#  * Average Reading Score\n",
    "#  * % Passing Math\n",
    "#  * % Passing Reading\n",
    "#  * Overall Passing Rate (Average of the above two)\n",
    "\n",
    "\n",
    "# Create the bins in which Data will be held\n",
    "spending_bins = [0, 585, 615, 645, 675]\n",
    "group_names = [\"<$585\", \"$585-615\", \"$615-645\", \"$645-675\"]\n",
    "\n",
    "school_summary[\"Spending Group\"] = pd.cut(school_summary[\"Per Student Budget\"], spending_bins, labels=group_names)\n",
    "\n",
    "school_summary[[\"Average Math Score\", \"Average Reading Score\", \"% Passing Math\", \"% Passing Reading\", \n",
    "                \"Overall Passing Rate\", \"Per Student Budget\", \"Spending Group\"]]\n",
    "\n",
    "\n",
    "group_spending_group = school_summary.groupby(\"Spending Group\")\n",
    "\n",
    "group_spending_group[[\"Average Math Score\", \"Average Reading Score\", \"% Passing Math\", \"% Passing Reading\", \n",
    "                \"Overall Passing Rate\"]].mean()"
   ]
  },
  {
   "cell_type": "code",
   "execution_count": null,
   "metadata": {},
   "outputs": [],
   "source": [
    "# Scores by School Size\n",
    "#  * Create a table that breaks down schools based on numbr of students. \n",
    "#    Use 3 reasonable bins to group school sizes. Include in the table each of the following:\n",
    "#  * Average Math Score\n",
    "#  * Average Reading Score\n",
    "#  * % Passing Math\n",
    "#  * % Passing Reading\n",
    "#  * Overall Passing Rate (Average of the above two)\n",
    "\n",
    "# Create the bins in which Data will be held\n",
    "bins = [0, 2000, 3000, 5000]\n",
    "\n",
    "# Create the names for the each bin\n",
    "group_names = [\"Small - Below 2000\", \"Medium 2000-3000\", \"Large - Over 3000\"]\n",
    "\n",
    "school_summary[\"Size Group\"] = pd.cut(school_summary[\"Total Students\"], bins, labels=group_names)\n",
    "school_summary[[\"Average Math Score\", \"Average Reading Score\", \"% Passing Math\", \"% Passing Reading\", \n",
    "                \"Overall Passing Rate\", \"Total Students\", \"Size Group\"]]\n",
    "\n",
    "group_size_group = school_summary.groupby(\"Size Group\")\n",
    "\n",
    "group_size_group[[\"Average Math Score\", \"Average Reading Score\", \"% Passing Math\", \"% Passing Reading\", \n",
    "                \"Overall Passing Rate\"]].mean()"
   ]
  },
  {
   "cell_type": "code",
   "execution_count": null,
   "metadata": {},
   "outputs": [],
   "source": [
    "### Scores by School Type\n",
    "\n",
    "# Repeat the above breakdown, but this time group schools based on school type (Charter vs. District).\n",
    "\n",
    "group_type = school_summary.groupby(\"School Type\")\n",
    "\n",
    "group_type[[\"Average Math Score\", \"Average Reading Score\", \"% Passing Math\", \"% Passing Reading\", \n",
    "                \"Overall Passing Rate\"]].mean()\n",
    "\n"
   ]
  }
 ],
 "metadata": {
  "kernelspec": {
   "display_name": "Python 3",
   "language": "python",
   "name": "python3"
  },
  "language_info": {
   "codemirror_mode": {
    "name": "ipython",
    "version": 3
   },
   "file_extension": ".py",
   "mimetype": "text/x-python",
   "name": "python",
   "nbconvert_exporter": "python",
   "pygments_lexer": "ipython3",
   "version": "3.7.4"
  }
 },
 "nbformat": 4,
 "nbformat_minor": 2
}
